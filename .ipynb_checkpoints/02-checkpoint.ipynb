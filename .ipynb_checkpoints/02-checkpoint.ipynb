{
 "cells": [
  {
   "cell_type": "code",
   "execution_count": null,
   "id": "e784cbdb-1fa6-4b07-b709-6935e421e00f",
   "metadata": {},
   "outputs": [],
   "source": [
    "#!pip install Pillow gọi thư viện"
   ]
  },
  {
   "cell_type": "code",
   "execution_count": 47,
   "id": "3f483c36-9f33-470f-bce0-b292697907d9",
   "metadata": {},
   "outputs": [],
   "source": [
    "#import thư viện\n",
    "from PIL import Image\n",
    "from imgtools import *"
   ]
  },
  {
   "cell_type": "code",
   "execution_count": 49,
   "id": "30b91c54-53aa-40d9-a96e-67131ed71080",
   "metadata": {},
   "outputs": [
    {
     "name": "stdout",
     "output_type": "stream",
     "text": [
      "C:\\Users\\ADMIN\\Documents\\TGMT_lop1\n"
     ]
    }
   ],
   "source": [
    "import os \n",
    "print(os.getcwd()) #xem thư mục hiện tại mình đang ở đâu\n",
    "#chọn thư mục chứa ảnh\n",
    "dir = 'C:/Users/ADMIN/Documents/TGMT_lop1/hinhanh/minion'"
   ]
  },
  {
   "cell_type": "code",
   "execution_count": 51,
   "id": "d0f2da57-bd5e-45c0-9b50-a8d020958717",
   "metadata": {},
   "outputs": [
    {
     "ename": "NameError",
     "evalue": "name 'filenames' is not defined",
     "output_type": "error",
     "traceback": [
      "\u001b[1;31m---------------------------------------------------------------------------\u001b[0m",
      "\u001b[1;31mNameError\u001b[0m                                 Traceback (most recent call last)",
      "Cell \u001b[1;32mIn[51], line 1\u001b[0m\n\u001b[1;32m----> 1\u001b[0m imgs \u001b[38;5;241m=\u001b[39m get_image_list(\u001b[38;5;28mdir\u001b[39m)\n",
      "File \u001b[1;32m~\\Documents\\TGMT_lop1\\imgtools.py:21\u001b[0m, in \u001b[0;36mget_image_list\u001b[1;34m(folder_path)\u001b[0m\n\u001b[0;32m     19\u001b[0m \u001b[38;5;28;01mif\u001b[39;00m os\u001b[38;5;241m.\u001b[39mpath\u001b[38;5;241m.\u001b[39mexists(folder_path) \u001b[38;5;129;01mand\u001b[39;00m os\u001b[38;5;241m.\u001b[39mpath\u001b[38;5;241m.\u001b[39misdir(folder_path):\n\u001b[0;32m     20\u001b[0m     filesnames \u001b[38;5;241m=\u001b[39m os\u001b[38;5;241m.\u001b[39mlistdir(folder_path)\n\u001b[1;32m---> 21\u001b[0m     \u001b[38;5;28;01mfor\u001b[39;00m filename \u001b[38;5;129;01min\u001b[39;00m filenames:\n\u001b[0;32m     22\u001b[0m         file_path \u001b[38;5;241m=\u001b[39m os\u001b[38;5;241m.\u001b[39mpath\u001b[38;5;241m.\u001b[39mjoin(folder_path, filename)\n\u001b[0;32m     23\u001b[0m         \u001b[38;5;28;01mif\u001b[39;00m os\u001b[38;5;241m.\u001b[39mpath\u001b[38;5;241m.\u001b[39misFile(file_path) \u001b[38;5;129;01mand\u001b[39;00m is_image_file(file_path):\n",
      "\u001b[1;31mNameError\u001b[0m: name 'filenames' is not defined"
     ]
    }
   ],
   "source": [
    "imgs = get_image_list(dir)"
   ]
  },
  {
   "cell_type": "code",
   "execution_count": null,
   "id": "441217cc-1af1-4cb4-b3e5-2cd133784231",
   "metadata": {},
   "outputs": [],
   "source": []
  }
 ],
 "metadata": {
  "kernelspec": {
   "display_name": "Python 3 (ipykernel)",
   "language": "python",
   "name": "python3"
  },
  "language_info": {
   "codemirror_mode": {
    "name": "ipython",
    "version": 3
   },
   "file_extension": ".py",
   "mimetype": "text/x-python",
   "name": "python",
   "nbconvert_exporter": "python",
   "pygments_lexer": "ipython3",
   "version": "3.12.4"
  }
 },
 "nbformat": 4,
 "nbformat_minor": 5
}

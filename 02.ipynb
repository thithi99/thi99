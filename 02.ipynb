{
 "cells": [
  {
   "cell_type": "code",
   "execution_count": null,
   "id": "e784cbdb-1fa6-4b07-b709-6935e421e00f",
   "metadata": {},
   "outputs": [],
   "source": [
    "#!pip install Pillow gọi thư viện"
   ]
  },
  {
   "cell_type": "code",
   "execution_count": 26,
   "id": "3f483c36-9f33-470f-bce0-b292697907d9",
   "metadata": {},
   "outputs": [],
   "source": [
    "#import thư viện\n",
    "from PIL import Image\n",
    "from imgtools import*"
   ]
  },
  {
   "cell_type": "code",
   "execution_count": 28,
   "id": "30b91c54-53aa-40d9-a96e-67131ed71080",
   "metadata": {},
   "outputs": [
    {
     "name": "stdout",
     "output_type": "stream",
     "text": [
      "C:\\Users\\ADMIN\\Documents\\TGMT_lop1\n"
     ]
    }
   ],
   "source": [
    "import os \n",
    "print(os.getcwd()) #xem thư mục hiện tại mình đang ở đâu\n",
    "#chọn thư mục chứa ảnh\n",
    "dir = 'C:/Users/ADMIN/Documents/TGMT_lop1/hinhanh'"
   ]
  }
 ],
 "metadata": {
  "kernelspec": {
   "display_name": "Python 3 (ipykernel)",
   "language": "python",
   "name": "python3"
  },
  "language_info": {
   "codemirror_mode": {
    "name": "ipython",
    "version": 3
   },
   "file_extension": ".py",
   "mimetype": "text/x-python",
   "name": "python",
   "nbconvert_exporter": "python",
   "pygments_lexer": "ipython3",
   "version": "3.12.4"
  }
 },
 "nbformat": 4,
 "nbformat_minor": 5
}

{
 "cells": [
  {
   "cell_type": "code",
   "execution_count": 2,
   "id": "26e2d1d3-0b0a-435d-aebe-cba7158ec42c",
   "metadata": {},
   "outputs": [],
   "source": [
    "from PIL import Image\n",
    "import matplotlib.pyplot as plt"
   ]
  },
  {
   "cell_type": "code",
   "execution_count": 5,
   "id": "415b8371-0064-4539-b75f-d3794718b19c",
   "metadata": {},
   "outputs": [],
   "source": [
    "my_path = 'C:/Users/ADMIN/Documents/TGMT_lop1/hinhanh/minion/minion.jpg'"
   ]
  },
  {
   "cell_type": "code",
   "execution_count": null,
   "id": "cf059361-9691-4a56-ae88-dc222eca2168",
   "metadata": {},
   "outputs": [],
   "source": [
    "#đọc ảnh\n",
    "img = Image.open(my_path)\n",
    "#chuyển đổi backend\n",
    "plt.switch_backend(\"tkagg\")\n",
    "#hiển thị hình ảnh\n",
    "plt.imshow(img)\n",
    "plt.title('click on the image the image to select points')\n",
    "#sử dụng hàm ginput để chọn điểm trên ảnh\n",
    "points = plt.ginput(5)\n",
    "print(points)\n",
    "plt.show()"
   ]
  },
  {
   "cell_type": "code",
   "execution_count": null,
   "id": "7a100ed4-51f7-4a3c-8628-747dbfde3726",
   "metadata": {},
   "outputs": [],
   "source": [
    "#vẽ lại các điểm đã chọn bằng dấu * màu đỏ\n",
    "plt.close()\n",
    "#vẽ lại\n",
    "plt.imshow(img)\n",
    "for point in points:\n",
    "    x, y = point\n",
    "    plt.plot(x,y, 'r*')\n",
    "\n",
    "plt.show()"
   ]
  },
  {
   "cell_type": "code",
   "execution_count": null,
   "id": "2d6f3d9b-95f2-48e4-a40e-a68943673157",
   "metadata": {},
   "outputs": [],
   "source": []
  }
 ],
 "metadata": {
  "kernelspec": {
   "display_name": "Python 3 (ipykernel)",
   "language": "python",
   "name": "python3"
  },
  "language_info": {
   "codemirror_mode": {
    "name": "ipython",
    "version": 3
   },
   "file_extension": ".py",
   "mimetype": "text/x-python",
   "name": "python",
   "nbconvert_exporter": "python",
   "pygments_lexer": "ipython3",
   "version": "3.12.4"
  }
 },
 "nbformat": 4,
 "nbformat_minor": 5
}
